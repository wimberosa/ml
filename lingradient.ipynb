{
 "cells": [
  {
   "cell_type": "markdown",
   "metadata": {},
   "source": [
    "Multi-variable gradient descent algorithm for\n",
    "https://www.coursera.org/learn/machine-learning/home/week/2"
   ]
  },
  {
   "cell_type": "code",
   "execution_count": 214,
   "metadata": {
    "collapsed": true
   },
   "outputs": [],
   "source": [
    "import numpy as np\n",
    "import pandas as pd\n",
    "import matplotlib.pyplot as plt\n",
    "from matplotlib.colors import ListedColormap\n",
    "from mpl_toolkits.mplot3d import Axes3D\n",
    "import numpy as np\n",
    "%matplotlib inline\n"
   ]
  },
  {
   "cell_type": "code",
   "execution_count": 218,
   "metadata": {
    "collapsed": false
   },
   "outputs": [],
   "source": [
    "class LinearRegressor():\n",
    "    \n",
    "    def __init__(self, X, y, theta):\n",
    "        self._X     = X\n",
    "        self._y     = y\n",
    "        self._m     = X.shape[0]\n",
    "        self._theta = theta\n",
    "    \n",
    "    def computeCost(self):\n",
    "        # hypothesis is a linear function such as\n",
    "        #   h0(x) = theta(0) * x(0) + theta(1) * x(1) + ... + theta(n) * x(n)\n",
    "        # where x(0) = 1\n",
    "        #\n",
    "        # Cost is SSE (sum of squared errors)\n",
    "        #   J(theta) = (1/(2 * m)) * (sum((h0(x(i)) - y(i))^2) for i = 1 to m)\n",
    "        #\n",
    "        sum = np.sum(np.power((np.dot(self._X, self._theta) - self._y), 2))\n",
    "        return (sum / (2 * self._m))\n",
    "    # end of computeCost\n",
    "    \n",
    "    def predict(self, xin):\n",
    "        # column 0 should be Ones\n",
    "        assert all(xin[:,0] == 1)\n",
    "        return np.dot(xin, self._theta)\n",
    "    \n",
    "    def gradientDescent(self, alpha, iters):\n",
    "        \n",
    "        # how many thetas are we computing. Theta is\n",
    "        # a column vector\n",
    "        ntheta = self._theta.shape[0]\n",
    "        \n",
    "        cost = np.zeros(iters)\n",
    "        \n",
    "        # for maximum number of gradient descent\n",
    "        # iterations\n",
    "        for ndescent in range(iters):\n",
    "\n",
    "            # Compute hypothesis h0(x) which is our prediction for y\n",
    "            #    h0(x) = theta(0) * x(0) + theta(1) * x(1) + ... + theta(n) * x(n)\n",
    "            # where x(0) = 1  (uses matrix multiplication)\n",
    "            #\n",
    "            # Subtract actual Y to give us the error between\n",
    "            # our prediction and actual.  This produces an\n",
    "            # error(i) value for every sample (i = 1 to m)\n",
    "            #\n",
    "            error = np.dot(self._X, self._theta) - self._y\n",
    "            \n",
    "            # dot = np.dot(self._X, self._theta)\n",
    "            # print(\"X=\",self._X[:10,:])\n",
    "            # print(\"theta=\", self._theta)\n",
    "            # print(\"X dot theta=\", dot[:10])\n",
    "            # print(\"y=\", self._y[:10])\n",
    "            # print(\"error=\", error[:10])\n",
    "                        \n",
    "            # for each theta\n",
    "            for j in range(ntheta):\n",
    "                \n",
    "                # For each sample (i = 1 to m) \n",
    "                # sum (error(i) * X(i) for feature (j))\n",
    "                # \n",
    "                e1 = (np.multiply(error.ravel(), self._X[:,j],))\n",
    "               \n",
    "                # Select the X column for feature (j) which returns\n",
    "                # an flattened array of one row.   Multiply corresponding\n",
    "                # elements of error * row and sum them\n",
    "                # \n",
    "                sum = np.sum(np.multiply(error.ravel(), self._X[:,j]))\n",
    "               \n",
    "                # We've already used prior theta for computing \n",
    "                # each samples error.  Thus this assignment to\n",
    "                # theta doesn't affect any interim calculations\n",
    "                # (i.e. adheres to simultaneous theta update)\n",
    "                #\n",
    "                self._theta[j,0] = self._theta[j,0] - (alpha * sum / self._m)\n",
    "            # end for j\n",
    "\n",
    "            cost[ndescent] = self.computeCost()\n",
    "        # end for ndescent\n",
    "\n",
    "        return self._theta, cost\n",
    "    # end gradientDescent\n"
   ]
  },
  {
   "cell_type": "code",
   "execution_count": 219,
   "metadata": {
    "collapsed": false
   },
   "outputs": [],
   "source": [
    "df = pd.read_csv('./data/RealEstate.csv', header=0)\n",
    "\n",
    "featureName = [ 'Size'] #, 'Bedrooms']\n",
    "targetName  = [ 'Price' ]\n",
    "\n",
    "# Features and target are both column vectors\n",
    "# where features are indexed by j and samples by i\n",
    "#\n",
    "# x = [[x(i=0)(j=1)] [x(i=0)(j=2)] ... [x(i=0)(j=n)]\n",
    "#      [x(i=1)(j=1)] [x(i=1)(j=2)] ... [x(i=1)(j=n)]\n",
    "#                         ...\n",
    "#      [x(i=m)(j=1)] [x(i=m)(j=2)] ... [x(i=m)(j=n)]]\n",
    "#\n",
    "xdf = df[featureName]\n",
    "\n",
    "# We'll insert a column of Ones so that we can do matrix\n",
    "# multiplication and theta0 will maintain its identity\n",
    "#\n",
    "xdf.insert(0, 'Ones', 1)\n",
    "\n",
    "# Target we are trying to predict\n",
    "ydf = df[targetName]\n",
    "\n",
    "X = np.array(xdf, np.float64)\n",
    "y = np.array(ydf, np.float64)\n",
    "\n",
    "# These are some big numbers so lets standardize \n",
    "# that by subtracting the mean and dividing by standard\n",
    "# deviation\n",
    "#\n",
    "yStd = np.copy(y)\n",
    "yStd = (y - y.mean()) / y.std()\n",
    "\n",
    "# X is a set of multi-column vectors.  We\n",
    "# skip the Ones column at index[0]\n",
    "#\n",
    "XStd = np.copy(X)\n",
    "for j in range(1, X.shape[1]):\n",
    "    XStd[:,j] = ((X[:,j] - X[:,j].mean()) / X[:,j].std())"
   ]
  },
  {
   "cell_type": "code",
   "execution_count": 220,
   "metadata": {
    "collapsed": false
   },
   "outputs": [
    {
     "data": {
      "image/png": "[encoded data removed]",
      "text/plain": [
       "<matplotlib.figure.Figure at 0x113d84cf8>"
      ]
     },
     "metadata": {},
     "output_type": "display_data"
    }
   ],
   "source": [
    "# Take a look at all the features separately against\n",
    "# the target.\n",
    "for i in range(1, X.shape[1]):\n",
    "    plt.scatter(X[:,i], y, color='r', marker='x', label='housing')\n",
    "\n",
    "    plt.xlabel(xdf.columns.values[i])\n",
    "    plt.ylabel(ydf.columns.values)\n",
    "\n",
    "    plt.legend(loc='upper right')\n",
    "    plt.show()                  \n"
   ]
  },
  {
   "cell_type": "code",
   "execution_count": 221,
   "metadata": {
    "collapsed": false
   },
   "outputs": [
    {
     "data": {
      "image/png": "[encoded data removed]",
      "text/plain": [
       "<matplotlib.figure.Figure at 0x114abf9e8>"
      ]
     },
     "metadata": {},
     "output_type": "display_data"
    }
   ],
   "source": [
    "alpha = 0.001\n",
    "iters = 100\n",
    "steps = 60\n",
    "costy = []\n",
    "\n",
    "# make theta a column vector of X feature length\n",
    "theta = np.zeros(shape=(xdf.shape[1], 1))\n",
    "\n",
    "gd = LinearRegressor(XStd, yStd, theta)\n",
    "\n",
    "plt.xlabel('iterations')\n",
    "plt.ylabel('cost')\n",
    "\n",
    "for s in range(0, steps):\n",
    "    g, cost = gd.gradientDescent(alpha, iters)\n",
    "    costy = costy + cost.tolist()\n",
    "    \n",
    "plt.plot(list(range(0, steps*iters)), costy, linestyle=\"-\", color='r', linewidth=2.5, label='cost')\n",
    "plt.legend(loc='upper right')\n",
    "plt.show()"
   ]
  },
  {
   "cell_type": "code",
   "execution_count": 222,
   "metadata": {
    "collapsed": false
   },
   "outputs": [
    {
     "data": {
      "image/png": "[encoded data removed]",
      "text/plain": [
       "<matplotlib.figure.Figure at 0x1149e2978>"
      ]
     },
     "metadata": {},
     "output_type": "display_data"
    }
   ],
   "source": [
    "\n",
    "xlin = np.copy(XStd)\n",
    "xlin[:,1] = np.linspace(XStd[:,1].min(), XStd[:,1].max(), XStd.shape[0])\n",
    "\n",
    "fx = gd.predict(xlin)\n",
    "plt.scatter(XStd[:,1], yStd, color='r', marker='x', label='housing')\n",
    "    \n",
    "plt.plot(xlin[:,1], fx, color='b', linestyle='-')\n",
    "plt.legend(loc='upper right')\n",
    "plt.show()\n",
    "             \n"
   ]
  },
  {
   "cell_type": "code",
   "execution_count": null,
   "metadata": {
    "collapsed": true
   },
   "outputs": [],
   "source": []
  }
 ],
 "metadata": {
  "anaconda-cloud": {},
  "kernelspec": {
   "display_name": "Python [default]",
   "language": "python",
   "name": "python3"
  },
  "language_info": {
   "codemirror_mode": {
    "name": "ipython",
    "version": 3
   },
   "file_extension": ".py",
   "mimetype": "text/x-python",
   "name": "python",
   "nbconvert_exporter": "python",
   "pygments_lexer": "ipython3",
   "version": "3.5.2"
  }
 },
 "nbformat": 4,
 "nbformat_minor": 1
}
